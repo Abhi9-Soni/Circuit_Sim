{
  "cells": [
    {
      "cell_type": "code",
      "execution_count": null,
      "metadata": {
        "id": "VGoELfFYlaOE"
      },
      "outputs": [],
      "source": [
        "import numpy as np\n",
        "import sympy as sp\n",
        "import matplotlib.pyplot as plt\n",
        "from IPython.display import display\n",
        "\n",
        "s, t = sp.symbols('s t')\n",
        "\n",
        "node_no = int(input(\"Enter the number of nodes: \"))\n",
        "admittance_matrix = np.zeros((node_no, node_no), dtype=object)\n",
        "current_matrix = np.zeros((node_no, node_no), dtype=object)"
      ]
    },
    {
      "cell_type": "code",
      "execution_count": null,
      "metadata": {
        "id": "CtmKIGvlNASv"
      },
      "outputs": [],
      "source": [
        "res_no=int(input(\"How many resistor in the circuit? \"))\n",
        "for i in range(0,res_no):\n",
        "    print(f\"\\nDetails for Resistor {i + 1}:\")\n",
        "    first_node=int(input(\"Enter the first node: \"))\n",
        "    second_node=int(input(\"Enter the second node: \"))\n",
        "    value=float(input(\"Enter the value of resistor in (ohm): \"))\n",
        "    admittance_matrix[first_node-1][second_node-1]+=1/value\n",
        "    admittance_matrix[second_node-1][first_node-1]+=1/value"
      ]
    },
    {
      "cell_type": "code",
      "execution_count": null,
      "metadata": {
        "id": "n4SWPystNl9w"
      },
      "outputs": [],
      "source": [
        "ind_no=int(input(\"How many inductor in the circuit? \"))\n",
        "for i in range(0,ind_no):\n",
        "    print(f\"\\nDetails for Inductor {i + 1}:\")\n",
        "    first_node=int(input(\"Enter the first node: \"))\n",
        "    second_node=int(input(\"Enter the second node: \"))\n",
        "    value=float(input(\"Enter the value of inductor in (H): \"))\n",
        "    admittance_matrix[first_node-1][second_node-1]+=1/(value*s)\n",
        "    admittance_matrix[second_node-1][first_node-1]+=1/(value*s)\n",
        "    in_current = int(input(\"Is there any initial current in the inductor? (1 for yes, 0 for no): \"))\n",
        "    if in_current:\n",
        "      pos_dirc = int(input(\"Node from which current is coming: \"))\n",
        "      neg_dirc = int(input(\"Node at which current is going: \"))\n",
        "      curr_value = float(input(\"Value of initial current in (A): \"))\n",
        "      current_matrix[pos_dirc - 1][neg_dirc - 1] += curr_value/s\n",
        "      current_matrix[neg_dirc - 1][pos_dirc - 1] -= curr_value/s"
      ]
    },
    {
      "cell_type": "code",
      "execution_count": null,
      "metadata": {
        "id": "KYKkZhR6PPI3"
      },
      "outputs": [],
      "source": [
        "cap_no=int(input(\"How many capacitor in the circuit? \"))\n",
        "for i in range(0,cap_no):\n",
        "    print(f\"\\nDetails for Capacitor {i + 1}:\")\n",
        "    first_node=int(input(\"Enter the first node: \"))\n",
        "    second_node=int(input(\"Enter the second node: \"))\n",
        "    value=float(input(\"Enter the value of capacitor in (F): \"))\n",
        "    admittance_matrix[first_node-1][second_node-1]+=value*s\n",
        "    admittance_matrix[second_node-1][first_node-1]+=value*s\n",
        "    in_voltage = int(input(\"Is there any initial voltage on capacitor? (1 for yes, 0 for no): \"))\n",
        "    if in_voltage:\n",
        "      pos_voldir = int(input(\"Positive side of capacitor at node: \"))\n",
        "      neg_voldir = int(input(\"Negative side of capacitor at node: \"))\n",
        "      voltval = float(input(\"Value of initial voltage: \"))\n",
        "      Lvoltval = value*voltval\n",
        "      current_matrix[pos_voldir - 1][neg_voldir - 1] -= Lvoltval\n",
        "      current_matrix[neg_voldir - 1][pos_voldir - 1] += Lvoltval"
      ]
    },
    {
      "cell_type": "code",
      "execution_count": null,
      "metadata": {
        "id": "bvrWq4bpQGxw"
      },
      "outputs": [],
      "source": [
        "indcurrent_no=int(input(\"How many current source in the circuit? \"))\n",
        "for i in range(0,indcurrent_no):\n",
        "   current_val = float(input(\"Enter current source value: \"))\n",
        "   pos_dir = int(input(\"Node from which current is coming: \"))\n",
        "   neg_dir = int(input(\"Node at which current is going: \"))\n",
        "   current_matrix[pos_dir - 1][neg_dir - 1] += current_val/s\n",
        "   current_matrix[neg_dir - 1][pos_dir - 1] -= current_val/s"
      ]
    },
    {
      "cell_type": "code",
      "execution_count": null,
      "metadata": {
        "id": "q3oRs-pdS-Hd"
      },
      "outputs": [],
      "source": [
        "symbol = sp.symbols(f'v1:{node_no + 1}', real=True)\n",
        "voltage_matrix = sp.Matrix(symbol)\n",
        "\n",
        "num_sources = int(input(\"Enter the number of voltage sources: \"))\n",
        "\n",
        "sources = {}\n",
        "supernodes = {}\n",
        "\n",
        "for i in range(num_sources):\n",
        "    print(f\"\\nDetails for voltage source {i + 1}:\")\n",
        "    pos = int(input(f\"Positive terminal at node: \"))\n",
        "    neg = int(input(f\"Negative terminal at node: \"))\n",
        "    volt = float(input(f\"Value of voltage source (in volts): \"))\n",
        "    sources[i] = {'pos': pos, 'neg': neg, 'volt': volt}\n",
        "    supernodes[i] = {'pos': pos, 'neg': neg}\n",
        "\n",
        "grnd = int(input(\"Ground is at which Node?: \"))\n",
        "voltage_matrix[grnd - 1] = 0\n",
        "\n",
        "for source in sources.values():\n",
        "    pos, neg, volt = source['pos'], source['neg'], source['volt']\n",
        "    Lvolt = sp.laplace_transform(volt, t, s, noconds=False)\n",
        "    if pos != grnd:\n",
        "        voltage_matrix[pos - 1] = voltage_matrix[neg - 1] + Lvolt[0] if neg != grnd else Lvolt[0]"
      ]
    },
    {
      "cell_type": "code",
      "execution_count": null,
      "metadata": {
        "id": "ccBMRTb0ZC5T"
      },
      "outputs": [],
      "source": [
        "SupernodalAnalysis_matrix = sp.Matrix(num_sources, 1, lambda i, _: 0)\n",
        "\n",
        "i=-1\n",
        "for supernode in supernodes.values():\n",
        "    pos, neg = supernode['pos'], supernode['neg']\n",
        "    if pos!=grnd and neg!=grnd:\n",
        "        i+=1\n",
        "        for col in range(node_no):\n",
        "            if admittance_matrix[pos-1][col] or admittance_matrix[neg-1][col]:\n",
        "                SupernodalAnalysis_matrix[i]+=(voltage_matrix[pos-1]-voltage_matrix[col])*admittance_matrix[pos-1][col] + (voltage_matrix[neg-1]-voltage_matrix[col])*admittance_matrix[neg-1][col]\n",
        "\n",
        "display(SupernodalAnalysis_matrix)\n",
        "\n",
        "nodalAnalysis_matrix = sp.Matrix(node_no, 1, lambda i, _: 0)\n",
        "\n",
        "excluded_nodes = set()\n",
        "for source in sources.values():\n",
        "    excluded_nodes.add(source['pos'])\n",
        "    excluded_nodes.add(source['neg'])\n",
        "\n",
        "for node in range(node_no):\n",
        "    if (node + 1) not in excluded_nodes:\n",
        "        for col in range(node_no):\n",
        "            if admittance_matrix[node][col]:\n",
        "                nodalAnalysis_matrix[node] += (voltage_matrix[node] - voltage_matrix[col]) * admittance_matrix[node][col]\n",
        "\n",
        "for i in range(node_no):\n",
        "    if i+1 not in excluded_nodes:\n",
        "        nodalAnalysis_matrix[i] += sum(current_matrix[i])\n",
        "\n",
        "combined_matrix = sp.Matrix(num_sources + len(nodalAnalysis_matrix), 1, lambda i, _: 0)\n",
        "for i in range(num_sources+len(nodalAnalysis_matrix)):\n",
        "    combined_matrix[i]=nodalAnalysis_matrix[i] if i< len(nodalAnalysis_matrix) else SupernodalAnalysis_matrix[i-len(nodalAnalysis_matrix)]\n",
        "\n",
        "\n",
        "nodalVoltages_solution = sp.solve(combined_matrix, symbol)"
      ]
    },
    {
      "cell_type": "code",
      "execution_count": null,
      "metadata": {
        "id": "rHWSpJHDhFud"
      },
      "outputs": [],
      "source": [
        "voltage_matrix_with_solution = voltage_matrix.subs(nodalVoltages_solution)\n",
        "\n",
        "print(\"\\nFrequency-Domain Solution for Node Voltages:\")\n",
        "for i, voltage in enumerate(voltage_matrix_with_solution, start=1):\n",
        "    display(f\"V{i} = {voltage}\")"
      ]
    },
    {
      "cell_type": "code",
      "execution_count": null,
      "metadata": {
        "id": "lulryQaakeME"
      },
      "outputs": [],
      "source": [
        "vol_matrix_soln_inT = sp.inverse_laplace_transform(voltage_matrix_with_solution, s, t)\n",
        "vol_matrix_soln_inT = vol_matrix_soln_inT.applyfunc(lambda x: x.rewrite(sp.exp)).applyfunc(sp.simplify)\n",
        "\n",
        "print(\"\\nTime-Domain Solution for Node Voltages:\")\n",
        "for i, voltage in enumerate(vol_matrix_soln_inT, start=1):\n",
        "    display(f\"V{i} = {voltage}\")"
      ]
    },
    {
      "cell_type": "code",
      "execution_count": null,
      "metadata": {
        "id": "a-SSlhSulkJI"
      },
      "outputs": [],
      "source": [
        "nodalCurrent_matrix_with_soln = np.zeros((node_no, node_no), dtype=object)\n",
        "\n",
        "for row in range(0, node_no):\n",
        "    is_voltage_source_pos = False\n",
        "    voltage_source_neg = None\n",
        "    for source in sources.values():\n",
        "        if source['pos'] == row + 1:\n",
        "            is_voltage_source_pos = True\n",
        "            voltage_source_neg = source['neg'] - 1\n",
        "            break\n",
        "\n",
        "    if is_voltage_source_pos:\n",
        "        current_sum = 0\n",
        "        for col in range(0, node_no):\n",
        "            if admittance_matrix[row][col]:\n",
        "                current_sum += (voltage_matrix_with_solution[row] - voltage_matrix_with_solution[col]) * admittance_matrix[row][col]\n",
        "\n",
        "        nodalCurrent_matrix_with_soln[row][voltage_source_neg] = current_sum\n",
        "        nodalCurrent_matrix_with_soln[voltage_source_neg][row] = -current_sum\n",
        "    else:\n",
        "        for col in range(0, node_no):\n",
        "            if admittance_matrix[row][col]:\n",
        "                nodalCurrent_matrix_with_soln[row][col] = (voltage_matrix_with_solution[row] - voltage_matrix_with_solution[col]) * admittance_matrix[row][col]\n",
        "                nodalCurrent_matrix_with_soln[col][row] = (voltage_matrix_with_solution[col] - voltage_matrix_with_solution[row]) * admittance_matrix[col][row]\n",
        "\n",
        "display(nodalCurrent_matrix_with_soln)"
      ]
    },
    {
      "cell_type": "code",
      "execution_count": null,
      "metadata": {
        "id": "vfbaTC2OmgCZ"
      },
      "outputs": [],
      "source": [
        "def CAL_CURRENT(firnodes, secnodes, comp=None):\n",
        "    if comp is None:\n",
        "        current_inS = nodalCurrent_matrix_with_soln[firnodes-1][secnodes-1]\n",
        "    else:\n",
        "        current_inS = (voltage_matrix_with_solution[firnodes-1] - voltage_matrix_with_solution[secnodes-1]) / comp\n",
        "\n",
        "    current_inT = sp.inverse_laplace_transform(current_inS, s, t)\n",
        "    fun = lambda x: x.rewrite(sp.exp)\n",
        "    current_inT = fun(current_inT)\n",
        "    current_inT = sp.simplify(current_inT)\n",
        "    display(current_inT)\n",
        "\n",
        "    plot = int(input(\"Do you want to plot it? yes=1, no=0: \"))\n",
        "    if plot:\n",
        "        f_lambdified = sp.lambdify(t, current_inT, modules=[\"numpy\"])\n",
        "        t_vals = np.linspace(0, 2*np.pi, 100)\n",
        "        y_vals = f_lambdified(t_vals)\n",
        "\n",
        "        plt.plot(t_vals, y_vals, label=\"Current through branch/element\")\n",
        "        plt.xlabel(\"Time (t)\")\n",
        "        plt.ylabel(\"Current\")\n",
        "        plt.title(\"Branch/Element Current\")\n",
        "        plt.legend()\n",
        "        plt.grid(True)\n",
        "        plt.show()\n",
        "\n",
        "    plotv = int(input(\"do you want voltage plot? yes=1, no=0: \"))\n",
        "    if plotv:\n",
        "\n",
        "\n",
        "       vplt=vol_matrix_soln_inT[a-1]-vol_matrix_soln_inT[b-1]\n",
        "       display(vplt)\n",
        "\n",
        "       f_lambdified = sp.lambdify(t,vplt, modules=[\"numpy\"])\n",
        "       to_vals = np.linspace(0, 2*np.pi, 100)\n",
        "       yo_vals = f_lambdified(to_vals)\n",
        "       f_lambdified = sp.lambdify(t, vplt, modules=[\"numpy\"])\n",
        "       plt.plot(to_vals, yo_vals, label=\"voltage across branch/element\")\n",
        "       plt.xlabel(\"Time (t)\")\n",
        "       plt.ylabel(\"voltage\")\n",
        "       plt.title(\"Branch/Element voltage\")\n",
        "\n",
        "       plt.grid(True)\n",
        "       plt.show()\n",
        "\n",
        "\n",
        "while(int(input(\"Do you want to see specific Branch Current or voltage? yes=1, no=0: \"))):\n",
        "   a = int(input(\"Enter first node: \"))\n",
        "   b = int(input(\"Enter second node: \"))\n",
        "   elem_type = int(input(\"Across which element:Press() resistor=0, inductor=1, capacitor=2, voltage source=3: \"))\n",
        "\n",
        "   if elem_type == 3:\n",
        "       print(\"Current through voltage source or nodal current difference:\")\n",
        "       CAL_CURRENT(a, b)\n",
        "   else:\n",
        "       if elem_type == 0:\n",
        "           comp = float(input(\"Enter value of resistance: \"))\n",
        "       elif elem_type == 1:\n",
        "           comp = float(input(\"Enter the value of inductance: \")) * s\n",
        "       elif elem_type == 2:\n",
        "           comp = 1 / (float(input(\"Enter the value of capacitance: \")) * s)\n",
        "\n",
        "       CAL_CURRENT(a, b, comp)"
      ]
    }
  ],
  "metadata": {
    "colab": {
      "provenance": []
    },
    "kernelspec": {
      "display_name": "Python 3",
      "name": "python3"
    },
    "language_info": {
      "name": "python"
    }
  },
  "nbformat": 4,
  "nbformat_minor": 0
}